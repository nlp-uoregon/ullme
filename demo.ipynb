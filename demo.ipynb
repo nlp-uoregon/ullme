{
 "cells": [
  {
   "cell_type": "markdown",
   "metadata": {},
   "source": [
    "### Extending bidirectional attention for LLMs via ULLME. "
   ]
  },
  {
   "cell_type": "code",
   "execution_count": 1,
   "metadata": {},
   "outputs": [
    {
     "name": "stderr",
     "output_type": "stream",
     "text": [
      "/home/thienbackup/miniconda3/envs/ullme/lib/python3.9/site-packages/tqdm/auto.py:21: TqdmWarning: IProgress not found. Please update jupyter and ipywidgets. See https://ipywidgets.readthedocs.io/en/stable/user_install.html\n",
      "  from .autonotebook import tqdm as notebook_tqdm\n",
      "You are attempting to use Flash Attention 2.0 with a model not initialized on GPU. Make sure to move the model to GPU after initializing it on CPU with `model.to('cuda')`.\n"
     ]
    },
    {
     "name": "stdout",
     "output_type": "stream",
     "text": [
      "Tokenizer does not have a pad token. We will use the bos token as pad token.\n",
      "Model Architecture: \n",
      "ULLME(\n",
      "  (model): BidirectionalPhiForCausalLM(\n",
      "    (model): BidirectionalPhi(\n",
      "      (embed_tokens): Embedding(51200, 2048)\n",
      "      (embed_dropout): Dropout(p=0.0, inplace=False)\n",
      "      (layers): ModuleList(\n",
      "        (0-23): 24 x PhiDecoderLayer(\n",
      "          (self_attn): PhiFlashAttention2(\n",
      "            (q_proj): Linear(in_features=2048, out_features=2048, bias=True)\n",
      "            (k_proj): Linear(in_features=2048, out_features=2048, bias=True)\n",
      "            (v_proj): Linear(in_features=2048, out_features=2048, bias=True)\n",
      "            (dense): Linear(in_features=2048, out_features=2048, bias=True)\n",
      "            (rotary_emb): PhiRotaryEmbedding()\n",
      "          )\n",
      "          (mlp): PhiMLP(\n",
      "            (activation_fn): NewGELUActivation()\n",
      "            (fc1): Linear(in_features=2048, out_features=8192, bias=True)\n",
      "            (fc2): Linear(in_features=8192, out_features=2048, bias=True)\n",
      "          )\n",
      "          (input_layernorm): LayerNorm((2048,), eps=1e-05, elementwise_affine=True)\n",
      "          (resid_dropout): Dropout(p=0.0, inplace=False)\n",
      "        )\n",
      "      )\n",
      "      (final_layernorm): LayerNorm((2048,), eps=1e-05, elementwise_affine=True)\n",
      "    )\n",
      "    (lm_head): Linear(in_features=2048, out_features=51200, bias=False)\n",
      "  )\n",
      "  (output_projection): Sequential(\n",
      "    (0): Linear(in_features=2048, out_features=2048, bias=True)\n",
      "    (1): ReLU()\n",
      "    (2): Linear(in_features=2048, out_features=2048, bias=True)\n",
      "  )\n",
      ")\n"
     ]
    }
   ],
   "source": [
    "from ullme.models import ULLME\n",
    "\n",
    "model = ULLME(\n",
    "            model_name_or_path=\"microsoft/phi-1_5\",\n",
    "            model_backbone_type=\"phi\",\n",
    "            )\n",
    "model.cuda()\n",
    "print(\"Model Architecture: \")\n",
    "print(model)"
   ]
  },
  {
   "cell_type": "markdown",
   "metadata": {},
   "source": [
    "We also support LoRA patching for parameter-effecient fine-tuning "
   ]
  },
  {
   "cell_type": "code",
   "execution_count": null,
   "metadata": {},
   "outputs": [],
   "source": [
    "from ullme.models import ULLME\n",
    "\n",
    "lora_model = ULLME(\n",
    "            model_name_or_path=\"microsoft/phi-1_5\",\n",
    "            model_backbone_type=\"phi\",\n",
    "            lora_name=\"ullme-phi\",\n",
    "            loar_r=16,\n",
    "            lora_alpha=32,\n",
    "            )\n",
    "lora_model.cuda()\n",
    "print(\"Model Architecture: \")\n",
    "print(lora_model)"
   ]
  },
  {
   "cell_type": "markdown",
   "metadata": {},
   "source": [
    "Compute sequence representaion with Bidirectional Extended LLMs"
   ]
  },
  {
   "cell_type": "code",
   "execution_count": 7,
   "metadata": {},
   "outputs": [
    {
     "name": "stdout",
     "output_type": "stream",
     "text": [
      "Time taken:  0.070068359375\n",
      "Reps Shape:  torch.Size([2, 2048])\n",
      "Reps:  tensor([[-0.0540, -0.5312, -0.7500,  ..., -0.3770, -1.8828, -0.9961],\n",
      "        [-0.0540, -0.5312, -0.7500,  ..., -0.3770, -1.8828, -0.9961]],\n",
      "       device='cuda:0', dtype=torch.bfloat16, grad_fn=<ToCopyBackward0>)\n"
     ]
    }
   ],
   "source": [
    "import time\n",
    "input_sentence = \"This a example sentence. \" * 64 * 2\n",
    "model_inputs = model.tokenizer(\n",
    "                            [input_sentence] * 2,\n",
    "                            return_tensors='pt'\n",
    "                            )\n",
    "t0 = time.time()\n",
    "model_output = model(\n",
    "                    input_ids=model_inputs['input_ids'].cuda(),\n",
    "                    attention_mask=model_inputs['attention_mask'].cuda(),\n",
    "                    is_generate=False\n",
    "                    )\n",
    "print(\"Time taken: \", time.time() - t0)\n",
    "reps = model_output['reps']\n",
    "print(\"Reps Shape: \", reps.shape)\n",
    "print(\"Reps: \", reps)"
   ]
  },
  {
   "cell_type": "markdown",
   "metadata": {},
   "source": [
    "### Evaluation MTEB dataset via ULLME."
   ]
  },
  {
   "cell_type": "markdown",
   "metadata": {},
   "source": [
    "Here, we support almost LLM models available in HF. For example, we try to use top1 model in MTEB (dunzhang/stella_en_1.5B_v5)"
   ]
  },
  {
   "cell_type": "code",
   "execution_count": null,
   "metadata": {},
   "outputs": [],
   "source": [
    "from ullme.models import WrappedULLME\n",
    "from ullme.eval import eval_mteb_dataset\n",
    "\n",
    "\n",
    "model = WrappedULLME(model_name_or_path='dunzhang/stella_en_1.5B_v5')\n",
    "print(\"Model Architecture: \")\n",
    "print(model)"
   ]
  },
  {
   "cell_type": "markdown",
   "metadata": {},
   "source": [
    "After loading the model, you need to select specific datasets and language subsets for evaluation. "
   ]
  },
  {
   "cell_type": "code",
   "execution_count": null,
   "metadata": {},
   "outputs": [],
   "source": [
    "eval_result = eval_mteb_dataset(\n",
    "                                model=model,\n",
    "                                dataset_name='ArguAna',\n",
    "                                langs=['eng'],\n",
    "                                )\n",
    "print(\"Eval Result: \", eval_result)"
   ]
  },
  {
   "cell_type": "markdown",
   "metadata": {},
   "source": [
    "### Fine-tune LLMs with ULLME"
   ]
  },
  {
   "cell_type": "markdown",
   "metadata": {},
   "source": [
    "We support various training strategies including Constrastive Loss, SFT, DPO and GRL. The following spinet inlustrate how to use ULLME for fine-tuning LLM for Dense Retrieval. "
   ]
  },
  {
   "cell_type": "markdown",
   "metadata": {},
   "source": [
    "``` python\n",
    "from ullme.trainer import GradCacheTrainer\n",
    "trainer = GradCacheTrainer(\n",
    "                            con_loss_type='NTXentLoss',\n",
    "                            gen_loss_type='sigmoid', # 'sft'\n",
    "                            use_kl_loss=True\n",
    "                            )\n",
    "trainer.fit_epoch(\n",
    "                model=model,\n",
    "                train_loader=train_dataloader,\n",
    "                )\n",
    "```"
   ]
  },
  {
   "cell_type": "markdown",
   "metadata": {},
   "source": [
    "Besides, ULLME also support GradCache, Cross-devices Constrastive loss, Multi-GPUs training, and orther rich features for further improve the training process. Please refer to the documentation and file ```ullme/train.py``` for further information. "
   ]
  }
 ],
 "metadata": {
  "kernelspec": {
   "display_name": "ullme",
   "language": "python",
   "name": "python3"
  },
  "language_info": {
   "codemirror_mode": {
    "name": "ipython",
    "version": 3
   },
   "file_extension": ".py",
   "mimetype": "text/x-python",
   "name": "python",
   "nbconvert_exporter": "python",
   "pygments_lexer": "ipython3",
   "version": "3.9.19"
  }
 },
 "nbformat": 4,
 "nbformat_minor": 2
}
